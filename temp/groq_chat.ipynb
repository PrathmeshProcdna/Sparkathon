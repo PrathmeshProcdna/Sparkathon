{
 "cells": [
  {
   "cell_type": "code",
   "execution_count": 3,
   "metadata": {},
   "outputs": [],
   "source": [
    "from groq import Groq"
   ]
  },
  {
   "cell_type": "code",
   "execution_count": 4,
   "metadata": {},
   "outputs": [],
   "source": [
    "client = Groq(\n",
    "    api_key='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'\n",
    ")"
   ]
  },
  {
   "cell_type": "code",
   "execution_count": 24,
   "metadata": {},
   "outputs": [],
   "source": [
    "question = \"count different hem/oncs for rep emily\"\n",
    "\n",
    "prompt = f\"\"\"\n",
    "        schema = Given the 'hacka' table with Rep_ID as the primary key and with the following column descriptions :\n",
    "            --HCP_ID : int(nullable = False) : Unique identifier for Health Care Practitioners (HCPs).\n",
    "            --first_name__v : string(nullable = False) : First name of the HCP.\n",
    "            --middle_name__v : string(nullable = False) : Middle name of the HCP.\n",
    "            --last_name__v : string(nullable = False) : Last name of the HCP.\n",
    "            --formatted_name__v : string(nullable = False) : Full name of the HCP.\n",
    "            --medical_degree_1__v : string(nullable = False) : Medical degree(s) held by the HCP.\n",
    "            --gender__v : string(nullable = False) : Gender of the HCP.\n",
    "            --Specialty : string(nullable = False) : Specialty field of the HCP.\n",
    "            --hcp_status__v : string(nullable = False) : Activity status of the HCP (A = Active, I = Inactive, R = Retired, D = Dead).\n",
    "            --prefix__v : string(nullable = False) : Title of the HCP (e.g., DR for Doctor).\n",
    "            --email_1__v : string(nullable = False) : Email address of the HCP.\n",
    "            --x4decile__v : int(nullable = False) : Decile ranking of the HCP (10 = best, 1 = poor).\n",
    "            --ZIP : int(nullable = False) : ZIP code of the HCP's location.\n",
    "            --LOCALITY : string(nullable = False) : Locality or town of the HCP.\n",
    "            --ADMINISTRATION_AREA : string(nullable = False) : Administrative area or state of the HCP.\n",
    "            --Account_name : string(nullable = False) : Primary institution or organization the HCP is affiliated with.\n",
    "            --Territory : string(nullable = False) : Territory assigned to the HCP (specific to each representative).\n",
    "            --Region : string(nullable = False) : Region assigned to the HCP (specific to each representative).\n",
    "            --Rep_ID : int(nullable = False) : Unique identifier for the market representative responsible for the HCP.\n",
    "            --Rep_Name : string(nullable = False) : Name of the market representative responsible for the HCP.\n",
    "            --Year : int(nullable = False) : Year of the data update (e.g., 2021, 2022, 2023)\n",
    "\n",
    "\n",
    "        query prompt = 1. Please use distinct while generating sql query\n",
    "        2. Dont give any warnings just give me query.Also dont give query as a string please.\n",
    "        Question = f{question}\n",
    "        \"\"\""
   ]
  },
  {
   "cell_type": "code",
   "execution_count": 26,
   "metadata": {},
   "outputs": [
    {
     "data": {
      "text/plain": [
       "\"SELECT * FROM abbreviations WHERE abbreviation = 'HCP'\""
      ]
     },
     "execution_count": 26,
     "metadata": {},
     "output_type": "execute_result"
    }
   ],
   "source": [
    "response = client.chat.completions.create(\n",
    "    messages=[\n",
    "        {'role':'system','content':'You are working as a nlp to sql converter only so Please give a sql query according to the users question'},\n",
    "        {'role':'user','content':'What do you mean by HCP?'}\n",
    "    ],\n",
    "    model=\"llama-3.2-90b-text-preview\"\n",
    ")\n",
    "response.choices[0].message.content"
   ]
  },
  {
   "cell_type": "code",
   "execution_count": 13,
   "metadata": {},
   "outputs": [
    {
     "data": {
      "text/plain": [
       "'There are 19 distinct reps available.'"
      ]
     },
     "execution_count": 13,
     "metadata": {},
     "output_type": "execute_result"
    }
   ],
   "source": [
    "sql_res = \"\"\" \n",
    "   COUNT(DISTINCT Rep_ID)\n",
    "0                      19\n",
    "\n",
    "this is answer for the question: How many distinct reps available?\n",
    "\"\"\"\n",
    "\n",
    "response = client.chat.completions.create(\n",
    "    messages=[\n",
    "        {'role':'system','content':'you are a rephraser agent which rephrase the sql output in the normal human text and show to user'},\n",
    "        {'role':'user','content':sql_res}\n",
    "    ],\n",
    "    model=\"llama-3.2-90b-text-preview\"\n",
    ")\n",
    "response.choices[0].message.content"
   ]
  },
  {
   "cell_type": "code",
   "execution_count": null,
   "metadata": {},
   "outputs": [],
   "source": []
  }
 ],
 "metadata": {
  "kernelspec": {
   "display_name": "Sparkathon",
   "language": "python",
   "name": "python3"
  },
  "language_info": {
   "codemirror_mode": {
    "name": "ipython",
    "version": 3
   },
   "file_extension": ".py",
   "mimetype": "text/x-python",
   "name": "python",
   "nbconvert_exporter": "python",
   "pygments_lexer": "ipython3",
   "version": "3.12.5"
  }
 },
 "nbformat": 4,
 "nbformat_minor": 2
}
