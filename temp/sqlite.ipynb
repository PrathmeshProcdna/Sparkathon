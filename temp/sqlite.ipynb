{
 "cells": [
  {
   "cell_type": "code",
   "execution_count": 2,
   "metadata": {},
   "outputs": [
    {
     "name": "stdout",
     "output_type": "stream",
     "text": [
      "   HCP_data_update_Year  COUNT(DISTINCT HCP_ID)\n",
      "0                  2023                    1921\n",
      "1                  2024                    1919\n"
     ]
    }
   ],
   "source": [
    "import sqlite3\n",
    "\n",
    "conn = sqlite3.connect(r'C:\\Users\\PrathmeshLandge\\OneDrive - ProcDNA Analytics Pvt. Ltd\\Desktop\\Sparkathon\\hacka.db')\n",
    "\n",
    "import pandas as pd\n",
    "\n",
    "# df = pd.read_excel(r)\n",
    "\n",
    "# df.to_sql('hacka',conn,if_exists='replace',index=False)\n",
    "\n",
    "query = \"SELECT Distinct HCP_Data_Update_Year, COUNT(DISTINCT HCP_ID) FROM hacka WHERE hcp_status LIKE '%A%' OR hcp_status LIKE '%I%' GROUP BY HCP_Data_Update_Year\"\n",
    "df = pd.read_sql_query(query,conn)\n",
    "print(df)"
   ]
  },
  {
   "cell_type": "code",
   "execution_count": null,
   "metadata": {},
   "outputs": [],
   "source": [
    "\n"
   ]
  }
 ],
 "metadata": {
  "kernelspec": {
   "display_name": "Sparkathon",
   "language": "python",
   "name": "python3"
  },
  "language_info": {
   "codemirror_mode": {
    "name": "ipython",
    "version": 3
   },
   "file_extension": ".py",
   "mimetype": "text/x-python",
   "name": "python",
   "nbconvert_exporter": "python",
   "pygments_lexer": "ipython3",
   "version": "3.12.5"
  }
 },
 "nbformat": 4,
 "nbformat_minor": 2
}
